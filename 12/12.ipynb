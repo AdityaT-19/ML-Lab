{
 "cells": [
  {
   "cell_type": "code",
   "execution_count": 10,
   "metadata": {},
   "outputs": [],
   "source": [
    "import numpy as np"
   ]
  },
  {
   "cell_type": "code",
   "execution_count": 11,
   "metadata": {},
   "outputs": [],
   "source": [
    "def sigmoid(x):\n",
    "    return 1 / (1 + np.exp(-x))\n",
    "\n",
    "def sigmoid_derivative(x):\n",
    "    return x * (1 - x)"
   ]
  },
  {
   "cell_type": "code",
   "execution_count": 12,
   "metadata": {},
   "outputs": [],
   "source": [
    "class MLP:\n",
    "    def __init__(self,ip_size,op_size,hidden_size) -> None:\n",
    "        self.weights_ip_hidden = np.random.rand(ip_size,hidden_size)\n",
    "        self.weights_hidden_op = np.random.rand(hidden_size,op_size)\n",
    "        self.bias_hidden = np.random.rand(1,hidden_size)\n",
    "        self.bias_op = np.random.rand(1,op_size)\n",
    "    \n",
    "    def forward(self,X):\n",
    "        self.hidden = sigmoid(np.dot(X,self.weights_ip_hidden) + self.bias_hidden)\n",
    "        self.op = sigmoid(np.dot(self.hidden,self.weights_hidden_op) + self.bias_op)\n",
    "        return self.op\n",
    "    \n",
    "    def backward(self,X,y,op):\n",
    "        op_error = y - op\n",
    "        op_delta = op_error * sigmoid_derivative(op)\n",
    "        hidden_error = op_delta.dot(self.weights_hidden_op.T)\n",
    "        hidden_delta = hidden_error * sigmoid_derivative(self.hidden)\n",
    "        self.weights_hidden_op += self.hidden.T.dot(op_delta)\n",
    "        self.weights_ip_hidden += X.T.dot(hidden_delta)\n",
    "        self.bias_hidden += np.sum(hidden_delta,axis=0,keepdims=True)\n",
    "        self.bias_op += np.sum(op_delta,axis=0,keepdims=True)\n",
    "        \n",
    "    def train(self,X,y,epochs):\n",
    "        for i in range(epochs):\n",
    "            op = self.forward(X)\n",
    "            self.backward(X,y,op)\n",
    "    \n",
    "    def predict(self,X):\n",
    "        return (self.forward(X) > 0.5).astype(int)\n",
    "    \n",
    "    "
   ]
  },
  {
   "cell_type": "code",
   "execution_count": 13,
   "metadata": {},
   "outputs": [],
   "source": [
    "X_xor = np.array([[0,0],[0,1],[1,0],[1,1]])\n",
    "y_xor = np.array([[0],[1],[1],[0]])"
   ]
  },
  {
   "cell_type": "code",
   "execution_count": 14,
   "metadata": {},
   "outputs": [],
   "source": [
    "X_and_not = np.array([[0,0],[0,1],[1,0],[1,1]])\n",
    "y_and_not = np.array([[0],[0],[1],[0]])"
   ]
  },
  {
   "cell_type": "code",
   "execution_count": 15,
   "metadata": {},
   "outputs": [
    {
     "name": "stdout",
     "output_type": "stream",
     "text": [
      "[[0.49755374]\n",
      " [0.50300933]\n",
      " [0.498861  ]\n",
      " [0.50402552]]\n"
     ]
    }
   ],
   "source": [
    "mlp_xor = MLP(ip_size=2,op_size=1,hidden_size=4)\n",
    "mlp_xor.train(X_xor,y_xor,epochs=100)\n",
    "print(mlp_xor.predict(X_xor))   "
   ]
  }
 ],
 "metadata": {
  "kernelspec": {
   "display_name": "LAB",
   "language": "python",
   "name": "python3"
  },
  "language_info": {
   "codemirror_mode": {
    "name": "ipython",
    "version": 3
   },
   "file_extension": ".py",
   "mimetype": "text/x-python",
   "name": "python",
   "nbconvert_exporter": "python",
   "pygments_lexer": "ipython3",
   "version": "3.12.3"
  }
 },
 "nbformat": 4,
 "nbformat_minor": 2
}

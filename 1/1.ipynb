{
 "cells": [
  {
   "cell_type": "code",
   "execution_count": 1,
   "metadata": {},
   "outputs": [],
   "source": [
    "def search(data):\n",
    "    x=input(\"Enter search element: \")\n",
    "    for i in range(len(data)):\n",
    "        if data[i]==x:\n",
    "            print(f\"Element found at {i}\")\n",
    "            return\n",
    "    print(\"Element not Found!!\")\n",
    "def sort(data):\n",
    "    for i in range(len(data)-1):\n",
    "        flag=False\n",
    "        for j in range(len(data)-i-1):\n",
    "            if data[j]>data[j+1]:\n",
    "                temp=data[j]\n",
    "                data[j]=data[j+1]\n",
    "                data[j+1]=temp\n",
    "                flag=True\n",
    "            if not flag:\n",
    "                return"
   ]
  },
  {
   "cell_type": "code",
   "execution_count": 2,
   "metadata": {},
   "outputs": [],
   "source": [
    "def update(data,key):\n",
    "    if key not in data:\n",
    "        print(\"Key not found\")\n",
    "    else:\n",
    "        x=input(\"Enter a new value: \")\n",
    "        data[key]=x\n",
    "    "
   ]
  },
  {
   "cell_type": "code",
   "execution_count": 3,
   "metadata": {},
   "outputs": [],
   "source": [
    "list_=[]\n",
    "def list_op():\n",
    "    print(\"List operations: \")\n",
    "    print(\"1.Insert\\n2.Delete\\n3.Update\\n4.Search\\n5.Sort\\n6.Display\\n7.Return to main\")\n",
    "    while True:\n",
    "        ch=int(input(\"Enter choice: \"))\n",
    "        if ch==1:\n",
    "            x=input(\"Enter element: \")\n",
    "            list_.append(x)\n",
    "        elif ch==2:\n",
    "            ele=input(\"Enter element to be deleted: \")\n",
    "            try:\n",
    "                list_.remove(ele)\n",
    "            except:\n",
    "                print(f\"Element {ele} not found\")\n",
    "        elif ch==3:\n",
    "            index=int(input(\"Enter index: \"))\n",
    "            update(list_,index)\n",
    "        elif ch==4:\n",
    "            search(list_)\n",
    "        elif ch==5:\n",
    "            sort(list_)\n",
    "        elif ch==6:\n",
    "            print(list_)\n",
    "        elif ch==7:\n",
    "            break\n",
    "        else:\n",
    "            print(\"Invalid choice\")\n",
    "        \n",
    "        "
   ]
  },
  {
   "cell_type": "code",
   "execution_count": 4,
   "metadata": {},
   "outputs": [],
   "source": [
    "tup=tuple()\n",
    "def tuple_op():\n",
    "    print(\"Enter tuple: \")\n",
    "    tup=tuple(i for i in input().split())\n",
    "    print(\"1.Display\\n2.Search\\n3.Exit\")\n",
    "    while True:\n",
    "        ch=int(input(\"Enter the choice\"))\n",
    "        if ch==1:\n",
    "            print(tup)\n",
    "        elif ch==2:\n",
    "            search(tup)\n",
    "        elif ch==3:\n",
    "            break\n",
    "        else:\n",
    "            Print(\"Invalid choice\")"
   ]
  },
  {
   "cell_type": "code",
   "execution_count": 5,
   "metadata": {},
   "outputs": [],
   "source": [
    "myset=set()\n",
    "def set_op():\n",
    "    print(\"1.Add\\n2.Remove\\n3.Search\\n4.Display\\n5.exit\")\n",
    "    while True:\n",
    "        ch=int(input(\"Enter choice: \"))\n",
    "        if ch==1:\n",
    "            myset.add(input(\"Enter element: \"))\n",
    "        elif ch==2:\n",
    "            try:\n",
    "                myset.remove(input(\"Enter element: \"))\n",
    "            except:\n",
    "                print(\"Element not found\")\n",
    "        elif ch==3:\n",
    "            search(myset)\n",
    "        elif ch==4:\n",
    "             print(myset)\n",
    "        elif ch==5:\n",
    "            return\n",
    "        else:\n",
    "            print(\"Invalid choice\")"
   ]
  },
  {
   "cell_type": "code",
   "execution_count": 6,
   "metadata": {},
   "outputs": [],
   "source": [
    "dict_=dict()\n",
    "def dict_operation():\n",
    "    print(\"1.Insert\\n2.Update\\n3.Delete\\n4.Search\\n5.Display\\n6.exit\")\n",
    "    while True:\n",
    "        ch=int(input(\"Enter your choice\"))\n",
    "        if ch==1:\n",
    "            key=input(\"Enter key: \")\n",
    "            value=input(\"Enter value: \")\n",
    "            dict_[key]=value\n",
    "        elif ch==2:\n",
    "            key=input(\"Enter the key: \")\n",
    "            update(dict_,key)\n",
    "        elif ch==3:\n",
    "            key=input(\"Enter key to be deleted: \")\n",
    "            if key in dict_:\n",
    "                del dict_[key]\n",
    "            else:\n",
    "                print(\"Key not found\")\n",
    "        elif ch==4:\n",
    "            ele=input(\"Enter value: \")\n",
    "            for key,value in dict.items():\n",
    "                if value==ele:\n",
    "                    print(key)\n",
    "        elif ch==5:\n",
    "            print(dict_)\n",
    "        elif ch==6:\n",
    "            break\n",
    "        else:\n",
    "            print(\"Invalid choice\")\n",
    "        "
   ]
  },
  {
   "cell_type": "code",
   "execution_count": 8,
   "metadata": {},
   "outputs": [
    {
     "name": "stdout",
     "output_type": "stream",
     "text": [
      "1.List\n",
      "2.Tuples\n",
      "3.Set\n",
      "4.Dictonary\n",
      "5.Exit\n",
      "List operations: \n",
      "1.Insert\n",
      "2.Delete\n",
      "3.Update\n",
      "4.Search\n",
      "5.Sort\n",
      "6.Display\n",
      "7.Return to main\n",
      "['', '5', '2']\n"
     ]
    },
    {
     "ename": "ValueError",
     "evalue": "invalid literal for int() with base 10: ''",
     "output_type": "error",
     "traceback": [
      "\u001b[1;31m---------------------------------------------------------------------------\u001b[0m",
      "\u001b[1;31mValueError\u001b[0m                                Traceback (most recent call last)",
      "Cell \u001b[1;32mIn[8], line 5\u001b[0m\n\u001b[0;32m      3\u001b[0m ch\u001b[38;5;241m=\u001b[39m\u001b[38;5;28mint\u001b[39m(\u001b[38;5;28minput\u001b[39m(\u001b[38;5;124m\"\u001b[39m\u001b[38;5;124mEnter choice: \u001b[39m\u001b[38;5;124m\"\u001b[39m))\n\u001b[0;32m      4\u001b[0m \u001b[38;5;28;01mif\u001b[39;00m ch\u001b[38;5;241m==\u001b[39m\u001b[38;5;241m1\u001b[39m:\n\u001b[1;32m----> 5\u001b[0m     \u001b[43mlist_op\u001b[49m\u001b[43m(\u001b[49m\u001b[43m)\u001b[49m\n\u001b[0;32m      6\u001b[0m \u001b[38;5;28;01melif\u001b[39;00m ch\u001b[38;5;241m==\u001b[39m\u001b[38;5;241m2\u001b[39m:\n\u001b[0;32m      7\u001b[0m     tuple_op()\n",
      "Cell \u001b[1;32mIn[3], line 6\u001b[0m, in \u001b[0;36mlist_op\u001b[1;34m()\u001b[0m\n\u001b[0;32m      4\u001b[0m \u001b[38;5;28mprint\u001b[39m(\u001b[38;5;124m\"\u001b[39m\u001b[38;5;124m1.Insert\u001b[39m\u001b[38;5;130;01m\\n\u001b[39;00m\u001b[38;5;124m2.Delete\u001b[39m\u001b[38;5;130;01m\\n\u001b[39;00m\u001b[38;5;124m3.Update\u001b[39m\u001b[38;5;130;01m\\n\u001b[39;00m\u001b[38;5;124m4.Search\u001b[39m\u001b[38;5;130;01m\\n\u001b[39;00m\u001b[38;5;124m5.Sort\u001b[39m\u001b[38;5;130;01m\\n\u001b[39;00m\u001b[38;5;124m6.Display\u001b[39m\u001b[38;5;130;01m\\n\u001b[39;00m\u001b[38;5;124m7.Return to main\u001b[39m\u001b[38;5;124m\"\u001b[39m)\n\u001b[0;32m      5\u001b[0m \u001b[38;5;28;01mwhile\u001b[39;00m \u001b[38;5;28;01mTrue\u001b[39;00m:\n\u001b[1;32m----> 6\u001b[0m     ch\u001b[38;5;241m=\u001b[39m\u001b[38;5;28;43mint\u001b[39;49m\u001b[43m(\u001b[49m\u001b[38;5;28;43minput\u001b[39;49m\u001b[43m(\u001b[49m\u001b[38;5;124;43m\"\u001b[39;49m\u001b[38;5;124;43mEnter choice: \u001b[39;49m\u001b[38;5;124;43m\"\u001b[39;49m\u001b[43m)\u001b[49m\u001b[43m)\u001b[49m\n\u001b[0;32m      7\u001b[0m     \u001b[38;5;28;01mif\u001b[39;00m ch\u001b[38;5;241m==\u001b[39m\u001b[38;5;241m1\u001b[39m:\n\u001b[0;32m      8\u001b[0m         x\u001b[38;5;241m=\u001b[39m\u001b[38;5;28minput\u001b[39m(\u001b[38;5;124m\"\u001b[39m\u001b[38;5;124mEnter element: \u001b[39m\u001b[38;5;124m\"\u001b[39m)\n",
      "\u001b[1;31mValueError\u001b[0m: invalid literal for int() with base 10: ''"
     ]
    }
   ],
   "source": [
    "while True:\n",
    "    print(\"1.List\\n2.Tuples\\n3.Set\\n4.Dictonary\\n5.Exit\")\n",
    "    ch=int(input(\"Enter choice: \"))\n",
    "    if ch==1:\n",
    "        list_op()\n",
    "    elif ch==2:\n",
    "        tuple_op()\n",
    "    elif ch==3:\n",
    "        set_op()\n",
    "    elif ch==4:\n",
    "        dict_operation()\n",
    "    elif ch==5:\n",
    "        break\n",
    "    else:\n",
    "        print(\"Invalid choice\")"
   ]
  },
  {
   "cell_type": "code",
   "execution_count": null,
   "metadata": {},
   "outputs": [],
   "source": []
  },
  {
   "cell_type": "code",
   "execution_count": null,
   "metadata": {},
   "outputs": [],
   "source": []
  }
 ],
 "metadata": {
  "kernelspec": {
   "display_name": "Python 3",
   "language": "python",
   "name": "python3"
  },
  "language_info": {
   "codemirror_mode": {
    "name": "ipython",
    "version": 3
   },
   "file_extension": ".py",
   "mimetype": "text/x-python",
   "name": "python",
   "nbconvert_exporter": "python",
   "pygments_lexer": "ipython3",
   "version": "3.12.0"
  }
 },
 "nbformat": 4,
 "nbformat_minor": 4
}

{
 "cells": [
  {
   "cell_type": "code",
   "execution_count": 33,
   "metadata": {},
   "outputs": [],
   "source": [
    "import numpy as np\n",
    "import pandas as pd\n",
    "from sklearn.model_selection import train_test_split,cross_val_score\n",
    "from sklearn.metrics import accuracy_score\n",
    "from sklearn.naive_bayes import GaussianNB as Classifier\n",
    "from sklearn.datasets import load_iris\n",
    "import warnings\n",
    "warnings.filterwarnings(\"ignore\")"
   ]
  },
  {
   "cell_type": "code",
   "execution_count": 34,
   "metadata": {},
   "outputs": [],
   "source": [
    "def evaluate_naive_bayes(dataset,target_col,K_values):\n",
    "    for K in K_values:\n",
    "        x_train,x_test,y_train,y_test=train_test_split(dataset.drop(columns=[target_col]),dataset[target_col],test_size=(1-K/10),random_state=42)\n",
    "        Clf=Classifier()\n",
    "        Clf.fit(x_train.values,y_train.values)\n",
    "        y_pred=Clf.predict(x_test.values)\n",
    "        accuracy=accuracy_score(y_test,y_pred)\n",
    "        print(f\"Split {K*10}-{100-K*10} Accuracy:{accuracy:.2f}\")"
   ]
  },
  {
   "cell_type": "code",
   "execution_count": 35,
   "metadata": {},
   "outputs": [],
   "source": [
    "iris_data=pd.read_csv('iris.csv').drop(columns=[\"Id\"])\n",
    "titanic_data=pd.read_csv('titanic.csv')"
   ]
  },
  {
   "cell_type": "code",
   "execution_count": 36,
   "metadata": {},
   "outputs": [],
   "source": [
    "titanic_data=titanic_data.drop(columns=['PassengerId','Name','Ticket','Cabin'])\n",
    "titanic_data['Age'].fillna(titanic_data['Age'].median(),inplace=True)\n",
    "titanic_data['Embarked'].fillna(titanic_data['Embarked'].mode()[0],inplace=True)\n",
    "titanic_data=pd.get_dummies(titanic_data,columns=['Sex','Embarked'])"
   ]
  },
  {
   "cell_type": "code",
   "execution_count": 45,
   "metadata": {},
   "outputs": [
    {
     "data": {
      "text/plain": [
       "(150, 5)"
      ]
     },
     "execution_count": 45,
     "metadata": {},
     "output_type": "execute_result"
    }
   ],
   "source": [
    "iris_data.shape"
   ]
  },
  {
   "cell_type": "code",
   "execution_count": 46,
   "metadata": {},
   "outputs": [
    {
     "data": {
      "text/plain": [
       "(891, 11)"
      ]
     },
     "execution_count": 46,
     "metadata": {},
     "output_type": "execute_result"
    }
   ],
   "source": [
    "titanic_data.shape"
   ]
  },
  {
   "cell_type": "code",
   "execution_count": 37,
   "metadata": {
    "scrolled": true
   },
   "outputs": [
    {
     "name": "stdout",
     "output_type": "stream",
     "text": [
      "Iris Dataset Naive Bayes Classifier Results\n",
      "Split 30-70 Accuracy:0.94\n",
      "Split 50-50 Accuracy:0.99\n",
      "Split 70-30 Accuracy:0.98\n",
      "Split 90-10 Accuracy:1.00\n"
     ]
    }
   ],
   "source": [
    "print(\"Iris Dataset Naive Bayes Classifier Results\")\n",
    "evaluate_naive_bayes(iris_data,'Species',[3,5,7,9])"
   ]
  },
  {
   "cell_type": "code",
   "execution_count": 38,
   "metadata": {},
   "outputs": [
    {
     "name": "stdout",
     "output_type": "stream",
     "text": [
      "\n",
      "Titanic dataset Naive Bayes Classifier Results: \n",
      "Split 30-70 Accuracy:0.75\n",
      "Split 50-50 Accuracy:0.78\n",
      "Split 70-30 Accuracy:0.79\n",
      "Split 90-10 Accuracy:0.79\n"
     ]
    }
   ],
   "source": [
    "print(\"\\nTitanic dataset Naive Bayes Classifier Results: \")\n",
    "evaluate_naive_bayes(titanic_data,'Survived',[3,5,7,9])"
   ]
  },
  {
   "cell_type": "code",
   "execution_count": 43,
   "metadata": {},
   "outputs": [
    {
     "data": {
      "text/plain": [
       "(891, 15)"
      ]
     },
     "execution_count": 43,
     "metadata": {},
     "output_type": "execute_result"
    }
   ],
   "source": [
    "import seaborn \n",
    "seaborn.load_dataset('titanic').head(6)\n",
    "import seaborn \n",
    "seaborn.load_dataset('titanic').shape"
   ]
  },
  {
   "cell_type": "code",
   "execution_count": 44,
   "metadata": {},
   "outputs": [
    {
     "data": {
      "text/plain": [
       "(150, 5)"
      ]
     },
     "execution_count": 44,
     "metadata": {},
     "output_type": "execute_result"
    }
   ],
   "source": [
    "import seaborn \n",
    "seaborn.load_dataset('iris').head(6)\n",
    "import seaborn \n",
    "seaborn.load_dataset('iris').shape"
   ]
  },
  {
   "cell_type": "code",
   "execution_count": null,
   "metadata": {},
   "outputs": [],
   "source": []
  }
 ],
 "metadata": {
  "kernelspec": {
   "display_name": "Python 3",
   "language": "python",
   "name": "python3"
  },
  "language_info": {
   "codemirror_mode": {
    "name": "ipython",
    "version": 3
   },
   "file_extension": ".py",
   "mimetype": "text/x-python",
   "name": "python",
   "nbconvert_exporter": "python",
   "pygments_lexer": "ipython3",
   "version": "3.7.4"
  }
 },
 "nbformat": 4,
 "nbformat_minor": 2
}

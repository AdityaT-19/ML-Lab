{
 "cells": [
  {
   "cell_type": "code",
   "execution_count": 57,
   "metadata": {},
   "outputs": [],
   "source": [
    "import numpy as np\n",
    "import pandas as pd\n",
    "from sklearn.model_selection import train_test_split,cross_val_score\n",
    "from sklearn.metrics import accuracy_score"
   ]
  },
  {
   "cell_type": "code",
   "execution_count": 58,
   "metadata": {},
   "outputs": [],
   "source": [
    "class NaiveBayesclassifier:\n",
    "    def __init__(self):\n",
    "        self.class_probabilities={}\n",
    "        self.feature_probabilities={}\n",
    "    def fit(self,x,y):\n",
    "        n_samples,n_features=x.shape\n",
    "        classes=np.unique(y)\n",
    "        for class_label in classes:\n",
    "            class_indices=np.where(y==class_label)\n",
    "            class_probability=len(class_indices[0])/n_samples\n",
    "            self.class_probabilities[class_label]=class_probability\n",
    "            class_data=x[class_indices]\n",
    "            feature_probabilities={}\n",
    "            for feature in range(n_features):\n",
    "                unique_values,counts=np.unique(class_data[:,feature],return_counts=True)\n",
    "                feature_probabilities[feature]={'value':unique_values,'probabilities':counts/len(class_indices[0])}\n",
    "            self.feature_probabilities[class_label]=feature_probabilities\n",
    "    def predict(self,x):\n",
    "        predictons=[]\n",
    "        for sample in x:\n",
    "            max_prob=-1\n",
    "            predicted_class=None\n",
    "            for class_label,class_probability in self.class_probabilities.items():\n",
    "                posterior=class_probability\n",
    "                for feature,feature_value in enumerate(sample):\n",
    "                    if feature_value in self.feature_probabilities[class_label][feature]['value']:\n",
    "                        feature_probability_index=np.where(self.feature_probabilities[class_label][feature]['value']==feature_value)[0][0]\n",
    "                        feature_probability=self.feature_probabilities[class_label][feature]['probabilities'][feature_probability_index]\n",
    "                        posterior*=feature_probability\n",
    "                    else:\n",
    "                        posterior*=0.01\n",
    "                if posterior>max_prob:\n",
    "                    max_prob=posterior\n",
    "                    predicted_class=class_label\n",
    "            predictons.append(predicted_class)\n",
    "        return predictons\n",
    "    \n",
    "def evaluate_naive_bayes(dataset,target_col,K_values):\n",
    "    for K in K_values:\n",
    "        print(f\"\\nResults for K={K}\")\n",
    "        x_train,x_test,y_train,y_test=train_test_split(dataset.drop(columns=[target_col]),dataset[target_col],test_size=(1-K/10),random_state=42)\n",
    "        Clf=NaiveBayesclassifier()\n",
    "        Clf.fit(x_train.values,y_train.values)\n",
    "        y_pred=Clf.predict(x_test.values)\n",
    "        accuracy=accuracy_score(y_test,y_pred)\n",
    "        print(f\"Split{K}-{10-K} Accuracy:{accuracy:.2f}\")"
   ]
  },
  {
   "cell_type": "code",
   "execution_count": 59,
   "metadata": {
    "scrolled": true
   },
   "outputs": [],
   "source": [
    "iris_data=pd.read_csv('iris.csv')\n",
    "titanic_data=pd.read_csv('titanic.csv')"
   ]
  },
  {
   "cell_type": "code",
   "execution_count": 60,
   "metadata": {},
   "outputs": [],
   "source": [
    "titanic_data=titanic_data.drop(columns=['PassengerId','Name','Ticket','Cabin'])\n",
    "titanic_data['Age'].fillna(titanic_data['Age'].median(),inplace=True)\n",
    "titanic_data['Embarked'].fillna(titanic_data['Embarked'].mode()[0],inplace=True)\n",
    "titanic_data=pd.get_dummies(titanic_data,columns=['Sex','Embarked'])"
   ]
  },
  {
   "cell_type": "code",
   "execution_count": 61,
   "metadata": {},
   "outputs": [
    {
     "name": "stdout",
     "output_type": "stream",
     "text": [
      "Iris Dataset Naive Bayes Classifier Results\n",
      "\n",
      "Results for K=3\n",
      "Split3-7 Accuracy:0.86\n",
      "\n",
      "Results for K=5\n",
      "Split5-5 Accuracy:0.91\n",
      "\n",
      "Results for K=7\n",
      "Split7-3 Accuracy:0.93\n",
      "\n",
      "Results for K=9\n",
      "Split9-1 Accuracy:0.93\n"
     ]
    }
   ],
   "source": [
    "print(\"Iris Dataset Naive Bayes Classifier Results\")\n",
    "evaluate_naive_bayes(iris_data,'Species',[3,5,7,9])"
   ]
  },
  {
   "cell_type": "code",
   "execution_count": 62,
   "metadata": {},
   "outputs": [
    {
     "name": "stdout",
     "output_type": "stream",
     "text": [
      "\n",
      "Titanic dataset Naive Bayes Classifier Results: \n"
     ]
    },
    {
     "ename": "NameError",
     "evalue": "name 'evalute_naive_bayes' is not defined",
     "output_type": "error",
     "traceback": [
      "\u001b[1;31m---------------------------------------------------------------------------\u001b[0m",
      "\u001b[1;31mNameError\u001b[0m                                 Traceback (most recent call last)",
      "\u001b[1;32m<ipython-input-62-842d9301feb5>\u001b[0m in \u001b[0;36m<module>\u001b[1;34m\u001b[0m\n\u001b[0;32m      1\u001b[0m \u001b[0mprint\u001b[0m\u001b[1;33m(\u001b[0m\u001b[1;34m\"\\nTitanic dataset Naive Bayes Classifier Results: \"\u001b[0m\u001b[1;33m)\u001b[0m\u001b[1;33m\u001b[0m\u001b[1;33m\u001b[0m\u001b[0m\n\u001b[1;32m----> 2\u001b[1;33m \u001b[0mevalute_naive_bayes\u001b[0m\u001b[1;33m(\u001b[0m\u001b[0mtitanic_data\u001b[0m\u001b[1;33m,\u001b[0m\u001b[1;34m'Survived'\u001b[0m\u001b[1;33m,\u001b[0m\u001b[1;33m[\u001b[0m\u001b[1;36m3\u001b[0m\u001b[1;33m,\u001b[0m\u001b[1;36m5\u001b[0m\u001b[1;33m,\u001b[0m\u001b[1;36m7\u001b[0m\u001b[1;33m,\u001b[0m\u001b[1;36m9\u001b[0m\u001b[1;33m]\u001b[0m\u001b[1;33m)\u001b[0m\u001b[1;33m\u001b[0m\u001b[1;33m\u001b[0m\u001b[0m\n\u001b[0m",
      "\u001b[1;31mNameError\u001b[0m: name 'evalute_naive_bayes' is not defined"
     ]
    }
   ],
   "source": [
    "print(\"\\nTitanic dataset Naive Bayes Classifier Results: \")\n",
    "evaluate_naive_bayes(titanic_data,'Survived',[3,5,7,9])"
   ]
  },
  {
   "cell_type": "code",
   "execution_count": null,
   "metadata": {},
   "outputs": [],
   "source": []
  }
 ],
 "metadata": {
  "kernelspec": {
   "display_name": "Python 3",
   "language": "python",
   "name": "python3"
  },
  "language_info": {
   "codemirror_mode": {
    "name": "ipython",
    "version": 3
   },
   "file_extension": ".py",
   "mimetype": "text/x-python",
   "name": "python",
   "nbconvert_exporter": "python",
   "pygments_lexer": "ipython3",
   "version": "3.8.5"
  }
 },
 "nbformat": 4,
 "nbformat_minor": 4
}

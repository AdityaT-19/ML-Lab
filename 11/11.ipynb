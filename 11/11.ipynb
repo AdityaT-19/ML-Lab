{
 "cells": [
  {
   "cell_type": "code",
   "execution_count": 1,
   "metadata": {},
   "outputs": [],
   "source": [
    "import numpy as np"
   ]
  },
  {
   "cell_type": "code",
   "execution_count": 2,
   "metadata": {},
   "outputs": [],
   "source": [
    "def unit_step(x):\n",
    "    return np.where(x > 0 , 1 ,0)"
   ]
  },
  {
   "cell_type": "code",
   "execution_count": 15,
   "metadata": {},
   "outputs": [],
   "source": [
    "class SLP:\n",
    "    def __init__(self, lr=0.01, epochs=1000):\n",
    "        self.lr = lr\n",
    "        self.epochs = epochs\n",
    "        self.weights = None\n",
    "        self.bias = 0\n",
    "\n",
    "    def fit(self, X, y):\n",
    "        self.weights = np.zeros((X.shape[1], 1))\n",
    "        for _ in range(self.epochs):\n",
    "            for ip, label in zip(X, y):\n",
    "                ip = ip.reshape(-1, 1)\n",
    "                linear_op = np.dot(ip.T, self.weights) + self.bias\n",
    "                prediction = unit_step(linear_op)\n",
    "                err = label - prediction\n",
    "                self.weights += self.lr * err * ip\n",
    "                self.bias += self.lr * err\n",
    "    \n",
    "    def predict(self, X):\n",
    "        X = X.reshape(-1,1)\n",
    "        linear_op = np.dot(X.T, self.weights) + self.bias\n",
    "        prediction = unit_step(linear_op)\n",
    "        return prediction"
   ]
  },
  {
   "cell_type": "code",
   "execution_count": 16,
   "metadata": {},
   "outputs": [],
   "source": [
    "X_and = np.array([[0, 0], [0, 1], [1, 0], [1, 1]])\n",
    "y_and = np.array([[0], [0], [0], [1]])\n",
    "\n",
    "X_or = np.array([[0, 0], [0, 1], [1, 0], [1, 1]])\n",
    "y_or = np.array([[0], [1], [1], [1]])"
   ]
  },
  {
   "cell_type": "code",
   "execution_count": 17,
   "metadata": {},
   "outputs": [
    {
     "name": "stdout",
     "output_type": "stream",
     "text": [
      "AND gate\n",
      "[[0]]\n",
      "[[0]]\n",
      "[[0]]\n",
      "[[1]]\n"
     ]
    }
   ],
   "source": [
    "perceptron_and = SLP()\n",
    "perceptron_and.fit(X_and, y_and)\n",
    "print(\"AND gate\")\n",
    "print(perceptron_and.predict(np.array([0, 0])))\n",
    "print(perceptron_and.predict(np.array([0, 1])))\n",
    "print(perceptron_and.predict(np.array([1, 0])))\n",
    "print(perceptron_and.predict(np.array([1, 1])))"
   ]
  },
  {
   "cell_type": "code",
   "execution_count": 18,
   "metadata": {},
   "outputs": [
    {
     "name": "stdout",
     "output_type": "stream",
     "text": [
      "OR gate\n",
      "[[0]]\n",
      "[[1]]\n",
      "[[1]]\n",
      "[[1]]\n"
     ]
    }
   ],
   "source": [
    "perceptron_or = SLP()\n",
    "perceptron_or.fit(X_or, y_or)\n",
    "print(\"OR gate\")\n",
    "print(perceptron_or.predict(np.array([0, 0])))\n",
    "print(perceptron_or.predict(np.array([0, 1])))\n",
    "print(perceptron_or.predict(np.array([1, 0])))\n",
    "print(perceptron_or.predict(np.array([1, 1])))"
   ]
  }
 ],
 "metadata": {
  "kernelspec": {
   "display_name": "LAB",
   "language": "python",
   "name": "python3"
  },
  "language_info": {
   "codemirror_mode": {
    "name": "ipython",
    "version": 3
   },
   "file_extension": ".py",
   "mimetype": "text/x-python",
   "name": "python",
   "nbconvert_exporter": "python",
   "pygments_lexer": "ipython3",
   "version": "3.12.3"
  }
 },
 "nbformat": 4,
 "nbformat_minor": 2
}

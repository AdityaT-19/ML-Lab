{
 "cells": [
  {
   "cell_type": "code",
   "execution_count": 22,
   "metadata": {},
   "outputs": [],
   "source": [
    "import numpy as np\n",
    "import matplotlib.pyplot as plt\n",
    "from scipy.cluster.hierarchy import dendrogram,linkage \n",
    "from sklearn.datasets import load_iris\n",
    "\n",
    "data = load_iris().data\n",
    "data = data[:6]"
   ]
  },
  {
   "cell_type": "code",
   "execution_count": 23,
   "metadata": {},
   "outputs": [],
   "source": [
    "def proximity_matrix(data):\n",
    "    n = data.shape[0]\n",
    "    pm = np.zeros((n,n))\n",
    "    for i in range(n):\n",
    "        for j in range(i+1,n):\n",
    "            pm[i,j]=pm[j,i]=np.linalg.norm(data[i]-data[j])\n",
    "    return pm"
   ]
  },
  {
   "cell_type": "code",
   "execution_count": 26,
   "metadata": {},
   "outputs": [],
   "source": [
    "def plot_deno(data,method):\n",
    "    link_mat = linkage(data,method=method)\n",
    "    dendrogram(link_mat)\n",
    "    plt.title(method.capitalize()+\" Linkage\")\n",
    "    plt.show()"
   ]
  },
  {
   "cell_type": "code",
   "execution_count": 27,
   "metadata": {},
   "outputs": [
    {
     "name": "stdout",
     "output_type": "stream",
     "text": [
      "Proximity Matrix is : \n",
      "[[0.         0.53851648 0.50990195 0.64807407 0.14142136 0.6164414 ]\n",
      " [0.53851648 0.         0.3        0.33166248 0.60827625 1.09087121]\n",
      " [0.50990195 0.3        0.         0.24494897 0.50990195 1.08627805]\n",
      " [0.64807407 0.33166248 0.24494897 0.         0.64807407 1.16619038]\n",
      " [0.14142136 0.60827625 0.50990195 0.64807407 0.         0.6164414 ]\n",
      " [0.6164414  1.09087121 1.08627805 1.16619038 0.6164414  0.        ]]\n"
     ]
    }
   ],
   "source": [
    "print('Proximity Matrix is : ')\n",
    "print(proximity_matrix(data))"
   ]
  },
  {
   "cell_type": "code",
   "execution_count": 28,
   "metadata": {},
   "outputs": [
    {
     "data": {
      "image/png": "[encoded data removed]",
      "text/plain": [
       "<Figure size 432x288 with 1 Axes>"
      ]
     },
     "metadata": {
      "needs_background": "light"
     },
     "output_type": "display_data"
    },
    {
     "data": {
      "image/png": "[encoded data removed]",
      "text/plain": [
       "<Figure size 432x288 with 1 Axes>"
      ]
     },
     "metadata": {
      "needs_background": "light"
     },
     "output_type": "display_data"
    }
   ],
   "source": [
    "plot_deno(data,'single')\n",
    "plot_deno(data,'complete')"
   ]
  }
 ],
 "metadata": {
  "kernelspec": {
   "display_name": "Python 3",
   "language": "python",
   "name": "python3"
  },
  "language_info": {
   "codemirror_mode": {
    "name": "ipython",
    "version": 3
   },
   "file_extension": ".py",
   "mimetype": "text/x-python",
   "name": "python",
   "nbconvert_exporter": "python",
   "pygments_lexer": "ipython3",
   "version": "3.8.5"
  }
 },
 "nbformat": 4,
 "nbformat_minor": 4
}
